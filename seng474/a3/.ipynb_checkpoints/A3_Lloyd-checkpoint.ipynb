{
 "cells": [
  {
   "cell_type": "code",
   "execution_count": 68,
   "id": "artificial-harvard",
   "metadata": {},
   "outputs": [],
   "source": [
    "#import lib\n",
    "import numpy as np\n",
    "import matplotlib.pyplot as pyplot\n",
    "import pandas as pd\n",
    "import random as rand\n",
    "from mpl_toolkits.mplot3d import Axes3D\n",
    "from sklearn.cluster import KMeans\n",
    "from sklearn.preprocessing import MinMaxScaler"
   ]
  },
  {
   "cell_type": "code",
   "execution_count": 78,
   "id": "infrared-trash",
   "metadata": {},
   "outputs": [],
   "source": [
    "def kmeansplusplus(x_val, K):\n",
    "    \n",
    "    random_val = rand.randint(0, x_val.shape[0])\n",
    "    centroid = np.array([x_val[random_val]])\n",
    "\n",
    "    for k in range(1, K):\n",
    "\n",
    "        random_val = 0\n",
    "        random_val2 = rand.random()\n",
    "        setup_arr = np.array([])\n",
    "\n",
    "        for cur_x in x_val:\n",
    "            x_result = np.min(np.sum((cur_x - centroid)**2))\n",
    "            setup_arr = np.append(setup_arr, x_result)\n",
    "\n",
    "        prob = setup_arr / np.sum(setup_arr)\n",
    "        cumprob = np.cumsum(prob)\n",
    "\n",
    "        for i, j in enumerate(cumprob):\n",
    "            if random_val2 < j:\n",
    "                random_val = i\n",
    "                break\n",
    "\n",
    "        centroid = np.append(centroid, [x_val[random_val]], axis = 0)\n",
    "    \n",
    "    return centroid.T"
   ]
  },
  {
   "cell_type": "code",
   "execution_count": 125,
   "id": "nearby-thickness",
   "metadata": {
    "scrolled": true
   },
   "outputs": [
    {
     "name": "stdout",
     "output_type": "stream",
     "text": [
      "13553.134612093578\n",
      "8194.286239327987\n",
      "5117.37196649969\n",
      "4416.319609959717\n",
      "3912.0128538228487\n",
      "3365.944475379692\n",
      "3059.320077505789\n",
      "2437.109961102826\n",
      "2223.201941734823\n",
      "2830.197773882459\n",
      "1820.2101380309457\n",
      "1754.3678374165097\n",
      "1772.0977088674113\n",
      "1739.1372461413534\n",
      "1511.4744826756141\n"
     ]
    },
    {
     "data": {
      "text/plain": [
       "<Figure size 432x288 with 0 Axes>"
      ]
     },
     "metadata": {},
     "output_type": "display_data"
    }
   ],
   "source": [
    "df = pd.read_csv('dataset1.csv')\n",
    "\n",
    "iterations = 16\n",
    "x_val = df.iloc[:,[0, 1]].values\n",
    "m = x_val.shape[0]\n",
    "arr = np.array([])\n",
    "cluster_num = 17\n",
    "for K in range(2, cluster_num, 1):\n",
    "    out = {}\n",
    "    centroids = np.array([]).reshape(x_val.shape[1], 0)\n",
    "    \n",
    "    for k in range(K):\n",
    "        random = rand.randint(0, m-1)\n",
    "        centroids = np.c_[centroids, x_val[random]]\n",
    "#     centroids =  kmeansplusplus(x_val, K)\n",
    "    \n",
    "    for i in range(iterations):\n",
    "        dists = np.array([]).reshape(m,0)\n",
    "        \n",
    "        \n",
    "        \n",
    "        for k in range(K):\n",
    "            result = (x_val - centroids[:, k])**2\n",
    "            dist = np.sum(result, axis = 1)\n",
    "            dists = np. c_[dists,dist]\n",
    "            \n",
    "        cluster = np.argmin(dists, axis = 1) + 1\n",
    "        \n",
    "        for k in range(K):\n",
    "            out[k+1] = np.array([]).reshape(2, 0)\n",
    "            \n",
    "        for n in range(m):\n",
    "            out[cluster[n]] = np.c_[out[cluster[n]], x_val[n]]\n",
    "            \n",
    "        for k in range (K):\n",
    "            out[k+1] = out[k + 1].T\n",
    "            \n",
    "        for k in range (K):\n",
    "            centroids[:, k] = np.mean(out[k + 1],axis = 0)\n",
    "            \n",
    "    centroids = centroids.T\n",
    "    sse = 0\n",
    "    \n",
    "    for k in range(K):\n",
    "        result2 = (out[k + 1] - centroids[k, :])**2\n",
    "        sse += np.sum(result2)\n",
    "    print(sse)\n",
    "    arr = np.append(arr, sse)\n",
    "    pyplot.title(\"K-means Algorith with \" + str(K) + \"Clusters\")\n",
    "    \n",
    "    for k in range(K):\n",
    "        pyplot.scatter(out[k+1][:, 0], out[k+1][:, 1])\n",
    "        \n",
    "    pyplot.scatter(centroids[:,0], centroids[:,1], s = 350, c='red', label = 'Centroids')\n",
    "    cur_file = \"kmeans_2D_\" + str(K)\n",
    "#     cur_file = \"kmeans++_2D_\" + str(K)\n",
    "    pyplot.savefig(cur_file)\n",
    "    pyplot.clf()\n",
    "    \n",
    "cluster_arr = np.arange(1, iterations)\n",
    "pyplot.title('Cost in number of Cluster')\n",
    "pyplot.xlabel('Number of Cluster')\n",
    "pyplot.ylabel('Cost (Sum of Squared Errors)')\n",
    "pyplot.plot(cluster_arr, arr, color = 'red')\n",
    "    \n",
    "    \n",
    "fileName = \"costplot_2DKmeans\"\n",
    "# fileName = \"costplot_2DKmeans++\"\n",
    "    \n",
    "pyplot.savefig(fileName)\n",
    "pyplot.clf()"
   ]
  },
  {
   "cell_type": "code",
   "execution_count": 136,
   "id": "absolute-noise",
   "metadata": {
    "scrolled": false
   },
   "outputs": [
    {
     "name": "stdout",
     "output_type": "stream",
     "text": [
      "969301.2515848603\n",
      "739827.3177382955\n",
      "655343.594261711\n",
      "533006.3178675761\n",
      "469321.70939712547\n",
      "408708.691668964\n",
      "365248.09999467403\n",
      "342849.55887777824\n",
      "310800.8444792575\n",
      "295586.7547992402\n",
      "278303.3009157778\n",
      "267950.6531060755\n",
      "251371.0159075061\n",
      "239413.45134130903\n",
      "228478.41006624588\n"
     ]
    },
    {
     "data": {
      "text/plain": [
       "<Figure size 432x288 with 0 Axes>"
      ]
     },
     "metadata": {},
     "output_type": "display_data"
    },
    {
     "data": {
      "text/plain": [
       "<Figure size 432x288 with 0 Axes>"
      ]
     },
     "metadata": {},
     "output_type": "display_data"
    },
    {
     "data": {
      "text/plain": [
       "<Figure size 432x288 with 0 Axes>"
      ]
     },
     "metadata": {},
     "output_type": "display_data"
    },
    {
     "data": {
      "text/plain": [
       "<Figure size 432x288 with 0 Axes>"
      ]
     },
     "metadata": {},
     "output_type": "display_data"
    },
    {
     "data": {
      "text/plain": [
       "<Figure size 432x288 with 0 Axes>"
      ]
     },
     "metadata": {},
     "output_type": "display_data"
    },
    {
     "data": {
      "text/plain": [
       "<Figure size 432x288 with 0 Axes>"
      ]
     },
     "metadata": {},
     "output_type": "display_data"
    },
    {
     "data": {
      "text/plain": [
       "<Figure size 432x288 with 0 Axes>"
      ]
     },
     "metadata": {},
     "output_type": "display_data"
    },
    {
     "data": {
      "text/plain": [
       "<Figure size 432x288 with 0 Axes>"
      ]
     },
     "metadata": {},
     "output_type": "display_data"
    },
    {
     "data": {
      "text/plain": [
       "<Figure size 432x288 with 0 Axes>"
      ]
     },
     "metadata": {},
     "output_type": "display_data"
    },
    {
     "data": {
      "text/plain": [
       "<Figure size 432x288 with 0 Axes>"
      ]
     },
     "metadata": {},
     "output_type": "display_data"
    },
    {
     "data": {
      "text/plain": [
       "<Figure size 432x288 with 0 Axes>"
      ]
     },
     "metadata": {},
     "output_type": "display_data"
    },
    {
     "data": {
      "text/plain": [
       "<Figure size 432x288 with 0 Axes>"
      ]
     },
     "metadata": {},
     "output_type": "display_data"
    },
    {
     "data": {
      "text/plain": [
       "<Figure size 432x288 with 0 Axes>"
      ]
     },
     "metadata": {},
     "output_type": "display_data"
    },
    {
     "data": {
      "text/plain": [
       "<Figure size 432x288 with 0 Axes>"
      ]
     },
     "metadata": {},
     "output_type": "display_data"
    },
    {
     "data": {
      "text/plain": [
       "<Figure size 432x288 with 0 Axes>"
      ]
     },
     "metadata": {},
     "output_type": "display_data"
    }
   ],
   "source": [
    "df = pd.read_csv('dataset2.csv')\n",
    "cluster_num = 17\n",
    "iterations = cluster_num-1\n",
    "x_val = df.iloc[: , [0, 1, 2]].values\n",
    "m = x_val.shape[0]\n",
    "\n",
    "arr = np.array([])\n",
    "\n",
    "for K in range(2, cluster_num, 1):\n",
    "    out = {}\n",
    "    centroids = np.array([]).reshape(x_val.shape[1],0)\n",
    "    \n",
    "#     for k in range(K):\n",
    "#         random = rand.randint(0,m-1)\n",
    "#         centroids = np.c_[centroids, x_val[random]]\n",
    "        \n",
    "    centroids = kmeansplusplus(x_val, K)\n",
    "\n",
    "\n",
    "    for i in range(iterations):\n",
    "        dists = np.array([]).reshape(m, 0)\n",
    "        for k in range(K):\n",
    "            result = (x_val - centroids[:,k])**2\n",
    "            dist = np.sum(result, axis =1)\n",
    "            dists = np.c_[dists, dist]\n",
    "            \n",
    "        cluster = np.argmin(dists, axis =1) +1\n",
    "        for k in range(K):\n",
    "            out[k+1] = np.array([]).reshape(3,0)\n",
    "            \n",
    "        for n in range(m):\n",
    "            out[cluster[n]] = np.c_[out[cluster[n]], x_val[n]]\n",
    "            \n",
    "        for k in range(K):\n",
    "            out[k + 1] = out[k + 1].T\n",
    "            \n",
    "        for k in range(K):\n",
    "            centroids[:, k] = np.mean(out[k + 1], axis = 0)\n",
    "            \n",
    "    centroids = centroids.T\n",
    "    sse = 0\n",
    "    \n",
    "    for k in range(K):\n",
    "        solution = (out[k + 1]-centroids[k, :])**2\n",
    "        sse +=np.sum(solution)\n",
    "    print(sse)\n",
    "    \n",
    "    arr = np.append(arr, sse)\n",
    "    \n",
    "    fig = pyplot.figure()\n",
    "    a = Axes3D(fig)\n",
    "    a.set_title(\"Kmean on dataset 2 with  \" + str(K) + \" Clusters\")\n",
    "    \n",
    "    for k in range(K):\n",
    "        a.scatter(out[k + 1][:, 0], out[k + 1][:, 1], out[k + 1][:, 2])\n",
    "        \n",
    "    a.scatter(centroids[:, 0], centroids[:, 1], centroids[:, 2], s = 350, c = 'Green', label = 'Centroids')\n",
    "#     cur_file = \"kmeans_3D_\" + str(K)\n",
    "    cur_file = \"kmeans++_3D_\" + str(K)\n",
    "    pyplot.savefig(cur_file)\n",
    "    pyplot.clf()\n",
    "    \n",
    "cluster_arr = np.arange(1, iterations)\n",
    "pyplot.title('Cost in number of Cluster')\n",
    "pyplot.xlabel('Number of Cluster')\n",
    "pyplot.ylabel('Cost (Sum of Squared Errors)')\n",
    "pyplot.plot(cluster_arr, arr, color = 'red')\n",
    "    \n",
    "    \n",
    "# fileName = \"costplot_3DKmeans\"\n",
    "fileName = \"costplot_3DKmeans++\"\n",
    "    \n",
    "pyplot.savefig(fileName)\n",
    "pyplot.clf()\n",
    "    "
   ]
  },
  {
   "cell_type": "code",
   "execution_count": null,
   "id": "charitable-amber",
   "metadata": {},
   "outputs": [],
   "source": []
  }
 ],
 "metadata": {
  "kernelspec": {
   "display_name": "Python 3",
   "language": "python",
   "name": "python3"
  },
  "language_info": {
   "codemirror_mode": {
    "name": "ipython",
    "version": 3
   },
   "file_extension": ".py",
   "mimetype": "text/x-python",
   "name": "python",
   "nbconvert_exporter": "python",
   "pygments_lexer": "ipython3",
   "version": "3.6.6"
  }
 },
 "nbformat": 4,
 "nbformat_minor": 5
}
