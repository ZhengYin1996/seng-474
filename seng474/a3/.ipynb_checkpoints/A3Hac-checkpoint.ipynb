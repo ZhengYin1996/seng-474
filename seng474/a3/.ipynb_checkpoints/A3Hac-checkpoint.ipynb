{
 "cells": [
  {
   "cell_type": "code",
   "execution_count": 1,
   "id": "turkish-violin",
   "metadata": {},
   "outputs": [],
   "source": [
    "import numpy as np\n",
    "import matplotlib.pyplot as plot\n",
    "import pandas as pd\n",
    "from mpl_toolkits.mplot3d import Axes3D\n",
    "from scipy.cluster.hierarchy import dendrogram\n",
    "from sklearn.cluster import AgglomerativeClustering as agg"
   ]
  },
  {
   "cell_type": "code",
   "execution_count": 7,
   "id": "surrounded-score",
   "metadata": {},
   "outputs": [],
   "source": [
    "def create_dendrogram(hac):\n",
    "    n = len(hac.labels_)\n",
    "    counts = np.zeros(hac.children_.shape[0])\n",
    "    for i, j in enumerate(hac.children_):\n",
    "        count = 0\n",
    "        for child in j:\n",
    "            if child <n:\n",
    "                count+=1\n",
    "            else:\n",
    "                count+= counts[child-n]\n",
    "        counts[i]= count\n",
    "    \n",
    "    linkages = np.column_stack([hac.children_, hac.distances_, counts])\n",
    "\n",
    "    linkages - linkages.astype(float)\n",
    "    return linkages\n",
    "\n"
   ]
  },
  {
   "cell_type": "code",
   "execution_count": 37,
   "id": "further-sleeping",
   "metadata": {
    "scrolled": true
   },
   "outputs": [
    {
     "data": {
      "text/plain": [
       "<Figure size 432x288 with 0 Axes>"
      ]
     },
     "metadata": {},
     "output_type": "display_data"
    }
   ],
   "source": [
    "#single link cluster\n",
    "\n",
    "# data = 'dataset1.csv'\n",
    "data = 'dataset2.csv'\n",
    "\n",
    "df= pd.read_csv(data)\n",
    "\n",
    "# x_val = df.iloc[:, [0,1]].values\n",
    "x_val = df.iloc[:, [0, 1, 2]].values\n",
    "\n",
    "hac = agg(n_clusters = None, distance_threshold = 1, linkage = 'single')\n",
    "hac.fit(x_val)\n",
    "\n",
    "\n",
    "linkages = create_dendrogram(hac)\n",
    "dendrogram(linkages, truncate_mode = 'lastp')\n",
    "\n",
    "plot.title(\"Dendrogram for Single Linkage HAC with \" + data)\n",
    "# plot.savefig(\"singleHAC2D_dendrogram.png\")\n",
    "plot.savefig(\"singleHAC3D_dendrogram.png\")\n",
    "plot.clf()"
   ]
  },
  {
   "cell_type": "code",
   "execution_count": 38,
   "id": "round-electric",
   "metadata": {
    "scrolled": false
   },
   "outputs": [
    {
     "data": {
      "text/plain": [
       "<Figure size 432x288 with 0 Axes>"
      ]
     },
     "metadata": {},
     "output_type": "display_data"
    }
   ],
   "source": [
    "#single\n",
    "hac = agg(n_clusters = 28, affinity = 'euclidean', linkage = 'single')\n",
    "\n",
    "\n",
    "\n",
    "hac.fit_predict(x_val)\n",
    "\n",
    "# 2d cluster\n",
    "# plot.title(\"Cluster Map(Single Linkage HAC on dataset 1)\")\n",
    "# plot.scatter(x_val[:,0], x_val[:,1], c = hac.labels_)\n",
    "# plot.savefig(\"singleHAC_2d_cluster.png\")\n",
    "\n",
    "# #3d cluster\n",
    "fig = plot.figure()\n",
    "a = Axes3D(fig)\n",
    "plot.title(\"Cluster Map(Single Linkage HAC on dataset 2)\")\n",
    "a.scatter(x_val[:, 0], x_val[:, 1], x_val[:, 2], c = hac.labels_)\n",
    "plot.savefig(\"singleHAC_3d_cluster.png\")\n",
    "\n",
    "\n",
    "plot.clf()"
   ]
  },
  {
   "cell_type": "code",
   "execution_count": 39,
   "id": "found-alaska",
   "metadata": {},
   "outputs": [
    {
     "data": {
      "text/plain": [
       "<Figure size 432x288 with 0 Axes>"
      ]
     },
     "metadata": {},
     "output_type": "display_data"
    }
   ],
   "source": [
    "#average link cluster\n",
    "\n",
    "# data = 'dataset1.csv'\n",
    "data = 'dataset2.csv'\n",
    "\n",
    "df= pd.read_csv(data)\n",
    "\n",
    "# x_val = df.iloc[:, [0,1]].values\n",
    "x_val = df.iloc[:, [0, 1, 2]].values\n",
    "\n",
    "hac = agg(n_clusters = None, distance_threshold = 0, linkage = 'average')\n",
    "hac.fit(x_val)\n",
    "\n",
    "linkage = create_dendrogram(hac)\n",
    "dendrogram(linkages, truncate_mode = 'lastp')\n",
    "\n",
    "plot.title(\"Dendrogram for Average Linkage HAC with \" + data)\n",
    "# plot.savefig(\"averageHAC2D_dendrogram.png\")\n",
    "plot.savefig(\"averageHAC3D_dendrogram.png\")\n",
    "\n",
    "plot.clf()"
   ]
  },
  {
   "cell_type": "code",
   "execution_count": 40,
   "id": "premium-forest",
   "metadata": {},
   "outputs": [
    {
     "data": {
      "text/plain": [
       "<Figure size 432x288 with 0 Axes>"
      ]
     },
     "metadata": {},
     "output_type": "display_data"
    }
   ],
   "source": [
    "#average 2d\n",
    "# hac = agg(n_clusters = 5, affinity = 'euclidean', linkage = 'average')\n",
    "# hac.fit_predict(x_val)\n",
    "\n",
    "# plot.title(\"Cluster Map(average Linkage HAC on dataset 1)\")\n",
    "# plot.scatter(x_val[:,0], x_val[:,1], c = hac.labels_)\n",
    "# plot.savefig(\"averageHAC_2d_cluster.png\")\n",
    "\n",
    "#average 3d\n",
    "\n",
    "hac = agg(n_clusters = 16, affinity = 'euclidean', linkage = 'average')\n",
    "hac.fit_predict(x_val)\n",
    "fig = plot.figure()\n",
    "a = Axes3D(fig)\n",
    "plot.title(\"Cluster Map(Single Linkage HAC on dataset 2)\")\n",
    "a.scatter(x_val[:, 0], x_val[:, 1], x_val[:, 2], c = hac.labels_)\n",
    "plot.savefig(\"averageHAC_3d_cluster.png\")\n",
    "\n",
    "\n",
    "plot.clf()"
   ]
  },
  {
   "cell_type": "code",
   "execution_count": null,
   "id": "smart-fraction",
   "metadata": {},
   "outputs": [],
   "source": []
  }
 ],
 "metadata": {
  "kernelspec": {
   "display_name": "Python 3",
   "language": "python",
   "name": "python3"
  },
  "language_info": {
   "codemirror_mode": {
    "name": "ipython",
    "version": 3
   },
   "file_extension": ".py",
   "mimetype": "text/x-python",
   "name": "python",
   "nbconvert_exporter": "python",
   "pygments_lexer": "ipython3",
   "version": "3.6.6"
  }
 },
 "nbformat": 4,
 "nbformat_minor": 5
}
