{
 "cells": [
  {
   "cell_type": "code",
   "execution_count": 1,
   "id": "compressed-roulette",
   "metadata": {
    "scrolled": true
   },
   "outputs": [],
   "source": [
    "# import library \n",
    "\n",
    "import numpy as np\n",
    "from sklearn import metrics\n",
    "from sklearn.linear_model import LogisticRegression\n",
    "import matplotlib.pyplot as plt\n",
    "import utils.mnist_reader as mnist_reader"
   ]
  },
  {
   "cell_type": "code",
   "execution_count": 2,
   "id": "resident-intake",
   "metadata": {},
   "outputs": [],
   "source": [
    "x_train, y_train = mnist_reader. load_mnist('data/fashion',kind ='train')\n",
    "x_test, y_test = mnist_reader.load_mnist('data/fashion', kind = 't10k')\n",
    "\n",
    "x_train = np.array(x_train)\n",
    "y_train = np.array(y_train)\n",
    "x_test = np.array(x_test)\n",
    "y_test = np.array(y_test)\n",
    "\n",
    "x_train_temp = []\n",
    "y_train_temp = []\n",
    "x_test_temp = []\n",
    "y_test_temp = []\n",
    "sneaker = 0\n",
    "sandal = 0\n",
    "train_len = len(x_train)\n",
    "test_len = len(x_test)"
   ]
  },
  {
   "cell_type": "code",
   "execution_count": 3,
   "id": "handed-romance",
   "metadata": {},
   "outputs": [
    {
     "name": "stdout",
     "output_type": "stream",
     "text": [
      "Training set size: 6000\n",
      "Test set size: 2000\n"
     ]
    }
   ],
   "source": [
    "for i in range(train_len):\n",
    "    if y_train[i]== 5 and sandal<4000:\n",
    "        y_train_temp.append(0)\n",
    "        x_train_temp.append(x_train[i])\n",
    "        sandal+=1\n",
    "    \n",
    "    if y_train[i]== 7 and sneaker<2000:\n",
    "        y_train_temp.append(1)\n",
    "        x_train_temp.append(x_train[i])\n",
    "        sneaker+=1\n",
    "\n",
    "for i in range(test_len):\n",
    "    if y_test[i]==5:\n",
    "        y_test_temp.append(0)\n",
    "        x_test_temp.append(x_test[i])\n",
    "\n",
    "        # Let sneaker data be class 1.\n",
    "    if y_test[i] == 7:\n",
    "        y_test_temp.append(1)\n",
    "        x_test_temp.append(x_test[i])\n",
    "\n",
    "x_train = np.array(x_train_temp) / 255\n",
    "y_train = y_train_temp\n",
    "x_test = np.array(x_test_temp) /255\n",
    "y_test = y_test_temp\n",
    "\n",
    "print(\"Training set size: \" + str(len(x_train)))\n",
    "print(\"Test set size: \" + str(len(x_test)))"
   ]
  },
  {
   "cell_type": "code",
   "execution_count": 47,
   "id": "fallen-owner",
   "metadata": {
    "scrolled": false
   },
   "outputs": [],
   "source": [
    "# c_vals = [0.0000001, 0.0000005, 0.000001, 0.000005, 0.00001, 0.00005]\n",
    "# c_vals = [1, 5, 10, 50, 100, 500]\n",
    "c_vals = [0.01, 0.05, 0.1, 0.5, 1, 5]\n",
    "\n",
    "test_accs = []\n",
    "train_accs = []\n",
    "\n",
    "for c in c_vals:\n",
    "    \n",
    "    clf = LogisticRegression(penalty = 'l2', max_iter = 1000000, C = c)\n",
    "    clf.fit(x_train, y_train)\n",
    "    \n",
    "    y_test_predict = clf.predict(x_test)\n",
    "    test_accuracy = metrics.accuracy_score(y_test, y_test_predict)\n",
    "    train_accuracy = clf.score(x_train, y_train)\n",
    "    test_accs.append(test_accuracy)\n",
    "    train_accs.append(train_accuracy)\n",
    "    \n"
   ]
  },
  {
   "cell_type": "code",
   "execution_count": 48,
   "id": "accessory-ozone",
   "metadata": {
    "scrolled": true
   },
   "outputs": [
    {
     "data": {
      "text/plain": [
       "<Figure size 432x288 with 0 Axes>"
      ]
     },
     "metadata": {},
     "output_type": "display_data"
    }
   ],
   "source": [
    "plt.title(\"Logistic Regression\")\n",
    "plt.xlabel(\"Regularization Parameter C\")\n",
    "plt.xscale('log')\n",
    "plt.ylabel(\"Accuracy\")\n",
    "plt.plot(c_vals, test_accs, 'r', label = \"Test Accuracy\")\n",
    "plt.plot(c_vals, train_accs, 'b', label = \"Training Accuracy\")\n",
    "plt.legend()\n",
    "    \n",
    "filename = \"LR_underfit.png\"\n",
    "    \n",
    "plt.savefig(filename)\n",
    "plt.clf()"
   ]
  },
  {
   "cell_type": "code",
   "execution_count": 6,
   "id": "synthetic-orlando",
   "metadata": {
    "scrolled": true
   },
   "outputs": [],
   "source": [
    "k_vals = [5, 6, 7, 8, 9, 10]\n",
    "c_vals = [0.115, 0.12, 0.125, 0.13, 0.135, 0.14, 0.145]\n",
    "test_accs = []\n",
    "for k in k_vals:\n",
    "    fold_accs = []\n",
    "    x_length = len(x_train)\n",
    "    y_length = len(y_train)\n",
    "    fold = x_length / k\n",
    "    \n",
    "    \n",
    "    for c in c_vals:\n",
    "        \n",
    "        current_c = []\n",
    "        \n",
    "        for group in range(k):\n",
    "            \n",
    "            next_group = group + 1\n",
    "            start = int(fold * group)\n",
    "            stop = int(fold * next_group)\n",
    "            \n",
    "            if group == (k - 1):\n",
    "                x_train_training = x_train[0 : start]\n",
    "                y_train_training = y_train[0 : start]\n",
    "                \n",
    "            elif group == 0:\n",
    "                \n",
    "                x_train_training = x_train[stop + 1 : x_length]\n",
    "                y_train_training = y_train[stop + 1 : y_length]\n",
    "                \n",
    "            else:\n",
    "                x_train_training_temp1 = np.array(x_train[0 : start])\n",
    "                x_train_training_temp2 = np.array(x_train[stop + 1 : x_length])\n",
    "                x_train_training = np.concatenate((x_train_training_temp1, x_train_training_temp2))\n",
    "                \n",
    "                y_train_training_temp1 = np.array(y_train[0 : start])\n",
    "                y_train_training_temp2 = np.array(y_train[stop + 1 : y_length])\n",
    "                y_train_training = np.concatenate((y_train_training_temp1, y_train_training_temp2))\n",
    "            \n",
    "            \n",
    "            x_train_test = x_train[start : stop]\n",
    "            y_train_test = y_train[start : stop]\n",
    "            \n",
    "            clf = LogisticRegression(penalty = 'l2', max_iter = 1000000, C = c)\n",
    "            clf.fit(x_train_training, y_train_training)\n",
    "            \n",
    "            y_test_pred = clf.predict(x_train_test)\n",
    "            test_acc = metrics.accuracy_score(y_train_test, y_test_pred)\n",
    "            train_acc = clf.score(x_train_training, y_train_training)\n",
    "            \n",
    "            current_c.append(test_acc)\n",
    "            \n",
    "        avg = sum(current_c)/len(current_c)\n",
    "        fold_accs.append(avg)\n",
    "    test_accs.append(fold_accs)"
   ]
  },
  {
   "cell_type": "code",
   "execution_count": 7,
   "id": "sporting-motivation",
   "metadata": {},
   "outputs": [
    {
     "data": {
      "text/plain": [
       "<Figure size 432x288 with 0 Axes>"
      ]
     },
     "metadata": {},
     "output_type": "display_data"
    }
   ],
   "source": [
    "plt.title(\"Logistic Regression (with K-Fold Validation)\")\n",
    "plt.xlabel(\"Regularization Parameter C\")\n",
    "plt.ylabel(\"Accuracy\")\n",
    "\n",
    "plt.plot(c_vals, test_accs[0], 'r', label = \"k = 5\")\n",
    "plt.plot(c_vals, test_accs[1], 'g', label = \"k = 6\")\n",
    "plt.plot(c_vals, test_accs[2], 'b', label = \"k = 7\")\n",
    "plt.plot(c_vals, test_accs[3], 'y', label = \"k = 8\")\n",
    "plt.plot(c_vals, test_accs[4], 'k', label = \"k = 9\")\n",
    "plt.plot(c_vals, test_accs[5], 'm', label = \"k = 10\")\n",
    "plt.legend()\n",
    "\n",
    "filename = \"LR_kfold.png\"\n",
    "plt.savefig(filename)\n",
    "plt.clf()"
   ]
  },
  {
   "cell_type": "code",
   "execution_count": null,
   "id": "laughing-platinum",
   "metadata": {},
   "outputs": [],
   "source": []
  }
 ],
 "metadata": {
  "kernelspec": {
   "display_name": "Python 3",
   "language": "python",
   "name": "python3"
  },
  "language_info": {
   "codemirror_mode": {
    "name": "ipython",
    "version": 3
   },
   "file_extension": ".py",
   "mimetype": "text/x-python",
   "name": "python",
   "nbconvert_exporter": "python",
   "pygments_lexer": "ipython3",
   "version": "3.6.6"
  }
 },
 "nbformat": 4,
 "nbformat_minor": 5
}
